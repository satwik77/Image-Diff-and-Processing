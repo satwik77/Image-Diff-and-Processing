{
 "cells": [
  {
   "cell_type": "markdown",
   "metadata": {
    "collapsed": true
   },
   "source": [
    "#Image Diff and Processing\n",
    "\n",
    "I have included various approaches to the project idea.\n",
    "Following are the proof of concepts for some features that I would like to implement and their corresponding python scripts which can be used for its implementation. \n",
    "\n",
    "Keeping in mind the whole idea of an image-analyzer in peragro-AT, there are various image processing features that can be included in the core peragro-AT, the image diff being the major one.\n",
    "\n",
    "There are various image processing libraries which can be used to implement image diff, like python imaging library(PIL) being the most common one, scikit-image one of the most widely used tools for implementation of various type of analytic features, imgdiff and imagemagick library. Wand is a ctypes-based ImagedMagick binding library for python and pythonmagick is an object-oriented python interface to ImageMagick.\n",
    "\n",
    "I have used scikit-image and PIL before and I am familiar with wand, so I would focus on implementing in skimage and PIL.\n",
    "\n",
    "There are various features that we can implement in the peragro-AT's image analyzer along with image diff:\n",
    " * Image differencing, the major one\n",
    " * Similarity index between images(using various approaches like RMS, SSIM, MSE)\n",
    " * Extracting as much meta-data from images as possible\n",
    " * Other features such as image noising and denoising(improves quality, specially used for satellite images)\n",
    " * Blob detection(extreme bright or dark features in an image)\n",
    " * And ofcourse exception handling( It has to be everywhere, doesn't need much explanation )\n",
    "\n",
    "I would like to know how do you perceive addtions of external features like denoising and blob detection. \n"
   ]
  },
  {
   "cell_type": "markdown",
   "metadata": {},
   "source": [
    "There can be more such features once the major ones are implemented.\n",
    "Plugins can be made, so that whoever uses the analyzer has more control on the features they want in it. For example currently I have thought of implementing Blob detection as a plugin using the yapsy package, which is also currently used in peragro-AT. \n",
    "\n",
    "Keeping in mind the scope of the project and its future development, I would suggest using scikit-image as there are lot of image manipulations that can be done with it. Though most of the things which can be done using PIL can be done in scikit-image and both of theirs source code are majorly written in C, so they are likely to have insignificant performance differences. Thus I would go with using scikit-image along with numpy and other required modules so that in future, there is more scope of implementing various image processing features.\n",
    "\n"
   ]
  },
  {
   "cell_type": "markdown",
   "metadata": {},
   "source": [
    "So to begin with, lets take the simplest feature:\n",
    "To check the similarity between two images, we can easily do it by either PIL or skimage"
   ]
  },
  {
   "cell_type": "code",
   "execution_count": null,
   "metadata": {
    "collapsed": true
   },
   "outputs": [],
   "source": [
    "### USING ROOT-MEAN SQUARE DIFFERNCE TO CHECK SIMILARITY ###\n",
    "def rmsdiff(im1, im2):\n",
    "    h = ImageChops.difference(im1, im2).histogram()\n",
    "\n",
    "    # calculate rms\n",
    "    return math.sqrt(reduce(operator.add,\n",
    "        map(lambda h, i: h*(i**2), h, range(256))\n",
    "    ) / (float(im1.size[0]) * im1.size[1]))\n"
   ]
  },
  {
   "cell_type": "markdown",
   "metadata": {},
   "source": [
    "Similarly skimage can used. Fortunately skimage has an inbuilt module for using structural similarity index. I have also implemented mean squared error. We can even use matplotlib to plot the required images."
   ]
  },
  {
   "cell_type": "code",
   "execution_count": null,
   "metadata": {
    "collapsed": true
   },
   "outputs": [],
   "source": [
    "import matplotlib.pyplot as plt\n",
    "import numpy as np\n",
    "from skimage.measure import structural_similarity as ssim\n",
    "## using openCV module ##\n",
    "import cv2\n",
    "\n",
    "pic = cv2.imread(\"satwik.png\")\n",
    "pic2 = cv2.imread(\"satwik2.png\")\n",
    "## for simplicity I am using grayscale here ##\n",
    "pic = cv2.cvtColor(pic, cv2.COLOR_BGR2GRAY)\n",
    "pic2 = cv2.cvtColor(pic2, cv2.COLOR_BGR2GRAY)\n",
    "\n",
    "\n",
    "### MEAN SQUARED ERROR ###\n",
    "def mse(im1, im2):\n",
    "    err = np.sum((im1.astype(\"float\") - im2.astype(\"float\")) ** 2)\n",
    "    err /= float(im1.shape[0] * im2.shape[1])\n",
    "    return err\n",
    " \n",
    "    \n",
    "## STRUCTURAL SIMILARITY AND MEAN SQUARED ERROR\n",
    "def similarity(imageA, imageB):\n",
    "\ts = ssim(im1, im2)\n",
    "\tm = mse(im1, im2)\n",
    "\tfig = plt.figure('satwik_test')\n",
    "\tplt.suptitle(\"MSE: %.2f, SSIM: %.2f\" % (m, s))\n",
    " \n",
    "\tax = fig.add_subplot(1, 2, 1)\n",
    "\tplt.imshow(imageA, cmap = plt.cm.gray)\n",
    "\tplt.axis(\"off\")\n",
    " \n",
    "\tax = fig.add_subplot(1, 2, 2)\n",
    "\tplt.imshow(imageB, cmap = plt.cm.gray)\n",
    "\tplt.axis(\"off\")\n",
    "\n",
    "\tplt.show()\n",
    "\n",
    "\n"
   ]
  },
  {
   "cell_type": "markdown",
   "metadata": {},
   "source": [
    "Thus, we can use various tools to implement features, but I would prefer to stick to PIL and scikit-image, as I have worked on those previously and use one of them depending on which makes things easier to implement something.\n",
    "\n",
    "To keep things neat and simple, in the following explanations I would include shorter code snippets to reduce complexity yet retain the root idea.\n",
    "\n",
    "\n",
    "\n",
    "To get the diff between two images,\n",
    "Using PIL\n",
    "\n",
    "To get the general pixelwise diff: "
   ]
  },
  {
   "cell_type": "code",
   "execution_count": null,
   "metadata": {
    "collapsed": true
   },
   "outputs": [],
   "source": [
    "def pixelwise_diff(im1,im2):\n",
    "\tred=abs(im1[0]-im2[0])\n",
    "\tgreen=abs(im1[1]-im2[1])\n",
    "\tblue=abs(im1[2]-im2[2])\n",
    "\talpha = int(0.2*red + 0.2*green + 0.2*blue)\n",
    "\treturn (red,green,blue,alpha)"
   ]
  },
  {
   "cell_type": "markdown",
   "metadata": {},
   "source": [
    "For implementing it on a transparent image, we can use:"
   ]
  },
  {
   "cell_type": "code",
   "execution_count": null,
   "metadata": {
    "collapsed": true
   },
   "outputs": [],
   "source": [
    "im = Image.new(\"RGBA\", (imagesize) , (0,0,0,0))"
   ]
  },
  {
   "cell_type": "markdown",
   "metadata": {},
   "source": [
    "And then go through the same pixelwise_diff to get our required image."
   ]
  },
  {
   "cell_type": "markdown",
   "metadata": {},
   "source": [
    "To blend images we can use:"
   ]
  },
  {
   "cell_type": "code",
   "execution_count": null,
   "metadata": {
    "collapsed": true
   },
   "outputs": [],
   "source": [
    "Image.blend(image1, image2, alpha)"
   ]
  },
  {
   "cell_type": "markdown",
   "metadata": {},
   "source": [
    "Though for all the above given implementations the image must be of the same size. Thus before using the above implementations the larger image has to be scaled to the smaller one or the smaller image could be filled with blank pixels. Both approaches can be given as options using argparse in command line. Images can be resized using:"
   ]
  },
  {
   "cell_type": "code",
   "execution_count": null,
   "metadata": {
    "collapsed": true
   },
   "outputs": [],
   "source": [
    "out = im.resize((height,width))"
   ]
  },
  {
   "cell_type": "markdown",
   "metadata": {},
   "source": [
    "\n",
    "Further moving on to extracting meta-data from images, we need to get the exif tags from the images using PIL."
   ]
  },
  {
   "cell_type": "code",
   "execution_count": null,
   "metadata": {
    "collapsed": true
   },
   "outputs": [],
   "source": [
    "from PIL import Image\n",
    "from PIL.ExifTags import TAGS\n",
    " \n",
    "def extract_exif(im1):\n",
    "    result = {}\n",
    "    im = Image.open(im1)\n",
    "    info = im._getexif()\n",
    "    for tag, value in info.items():\n",
    "        decoded = TAGS.get(tag, tag)\n",
    "        result[decoded] = value\n",
    "    return result"
   ]
  },
  {
   "cell_type": "markdown",
   "metadata": {},
   "source": [
    "{'YResolution': (180, 1), \n",
    " 'ResolutionUnit': 2, \n",
    " 'Make': 'Canon', \n",
    " 'Flash': 16, \n",
    " 'DateTime': '2009:09:11 11:29:10', \n",
    " 'MeteringMode': 5, \n",
    " 'XResolution': (180, 1), \n",
    " 'ColorSpace': 1, \n",
    " 'ExifImageWidth': 3264, \n",
    " 'DateTimeDigitized': '2009:09:11 11:29:10', \n",
    " 'ApertureValue': (116, 32), \n",
    " 'FocalPlaneYResolution': (2448000, 169), \n",
    " 'CompressedBitsPerPixel': (3, 1), \n",
    " 'SensingMethod': 2, \n",
    " 'FNumber': (35, 10), \n",
    " 'DateTimeOriginal': '2009:09:11 11:29:10', \n",
    " 'FocalLength': (26000, 1000), \n",
    " 'FocalPlaneXResolution': (3264000, 225), \n",
    " 'ExifOffset': 196, \n",
    " 'ExifImageHeight': 2448, \n",
    " 'ISOSpeedRatings': 100, \n",
    " 'Model': 'Canon PowerShot S5 IS', \n",
    " 'Orientation': 1, \n",
    " 'ExposureTime': (1, 200), \n",
    " 'FileSource': '\\x03', \n",
    " 'MaxApertureValue': (116, 32), \n",
    " 'ExifInteroperabilityOffset': 3346, \n",
    " 'FlashPixVersion': '0100', \n",
    " 'FocalPlaneResolutionUnit': 2, \n",
    " 'YCbCrPositioning': 1, \n",
    " 'ExifVersion': '0220'}"
   ]
  },
  {
   "cell_type": "markdown",
   "metadata": {},
   "source": [
    "\n",
    "The exif tags can also be extracted using wand:"
   ]
  },
  {
   "cell_type": "code",
   "execution_count": null,
   "metadata": {
    "collapsed": true
   },
   "outputs": [],
   "source": [
    "exif = {}\n",
    "with Image(filename='satwik.jpg') as image:\n",
    "    exif.update((k[5:], v) for k, v in image.metadata.items()\n",
    "                           if k.startswith('exif:'))"
   ]
  },
  {
   "cell_type": "markdown",
   "metadata": {},
   "source": [
    "But for sake of reducing dependencies, I would refrain from using packages other than PIL and scikit-image unless necessary"
   ]
  },
  {
   "cell_type": "markdown",
   "metadata": {},
   "source": [
    "\n",
    "Now coming over to external features like denoising, the concept is a bit complicated and lengthy. So in the process of removing noise yet preserving the details and structures, I would use Rudin-Osher-Fatemi de-noising model (ROF). It is relatively easy to implement using numpy. A simple implementation:"
   ]
  },
  {
   "cell_type": "code",
   "execution_count": null,
   "metadata": {
    "collapsed": true
   },
   "outputs": [],
   "source": [
    "from numpy import *\n",
    "\n",
    "### An implementation of the Rudin-Osher-Fatemi (ROF) denoising model ###\n",
    "def denoise(im,U_init,tolerance=0.1,tau=0.125,tv_weight=100):\n",
    "  m,n = im.shape\n",
    "\n",
    "  U = U_init\n",
    "  Px = im \n",
    "  Py = im \n",
    "  error = 1\n",
    "\n",
    "  while (error > tolerance):\n",
    "    Uold = U\n",
    "    GradUx = roll(U,-1,axis=1)-U \n",
    "    GradUy = roll(U,-1,axis=0)-U \n",
    "\n",
    "    PxNew = Px + (tau/tv_weight)*GradUx\n",
    "    PyNew = Py + (tau/tv_weight)*GradUy\n",
    "    NormNew = maximum(1,sqrt(PxNew**2+PyNew**2))\n",
    "\n",
    "    Px = PxNew/NormNew \n",
    "    Py = PyNew/NormNew\n",
    "    RxPx = roll(Px,1,axis=1)\n",
    "    RyPy = roll(Py,1,axis=0)\n",
    "\n",
    "    DivP = (Px-RxPx)+(Py-RyPy)\n",
    "    U = im + tv_weight*DivP \n",
    "    error = linalg.norm(U-Uold)/sqrt(n*m);\n",
    "\n",
    "  return U,im-U  \n",
    "\n",
    "# returns denoised image and texture residual "
   ]
  },
  {
   "cell_type": "markdown",
   "metadata": {},
   "source": [
    "Similarly for blob detection, there are algorithms like laplacian of Gaussian(LoG), Difference of Gaussian(DoG) and Determinant of Gaussian(DoH) and for each of them, there are inbuilt libraries like:\n",
    " * skimage.feature.blob_log()\n",
    " * skimage.feature.blob_dog()\n",
    " * skimage.feature.blob_doh()"
   ]
  },
  {
   "cell_type": "markdown",
   "metadata": {},
   "source": [
    "Thus it shows how using scikit-image, we can further extend our analyzer for implementation of various features. "
   ]
  },
  {
   "cell_type": "markdown",
   "metadata": {},
   "source": [
    "For implementing a GUI, Tkinter is a very use Python Interface in the Tk GUI toolkit inbuilt in python."
   ]
  },
  {
   "cell_type": "markdown",
   "metadata": {},
   "source": []
  }
 ],
 "metadata": {
  "kernelspec": {
   "display_name": "Python 2",
   "language": "python",
   "name": "python2"
  },
  "language_info": {
   "codemirror_mode": {
    "name": "ipython",
    "version": 2
   },
   "file_extension": ".py",
   "mimetype": "text/x-python",
   "name": "python",
   "nbconvert_exporter": "python",
   "pygments_lexer": "ipython2",
   "version": "2.7.8"
  }
 },
 "nbformat": 4,
 "nbformat_minor": 0
}
